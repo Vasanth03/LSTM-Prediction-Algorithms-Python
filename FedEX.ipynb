{
  "nbformat": 4,
  "nbformat_minor": 0,
  "metadata": {
    "colab": {
      "provenance": [],
      "authorship_tag": "ABX9TyNBxF8IEFv4pPjDX7aPjkYW",
      "include_colab_link": true
    },
    "kernelspec": {
      "name": "python3",
      "display_name": "Python 3"
    },
    "language_info": {
      "name": "python"
    }
  },
  "cells": [
    {
      "cell_type": "markdown",
      "metadata": {
        "id": "view-in-github",
        "colab_type": "text"
      },
      "source": [
        "<a href=\"https://colab.research.google.com/github/Vasanth03/Vasanth/blob/master/FedEX.ipynb\" target=\"_parent\"><img src=\"https://colab.research.google.com/assets/colab-badge.svg\" alt=\"Open In Colab\"/></a>"
      ]
    },
    {
      "cell_type": "markdown",
      "source": [
        "Explanation of the dataset:\n",
        "\n",
        "No. of Columns: 15\n",
        "Dependent variable: Delivery_Status\n",
        "Task: Classification\n",
        "NA's: Yes"
      ],
      "metadata": {
        "id": "vLoNmJfOzV8O"
      }
    },
    {
      "cell_type": "markdown",
      "source": [
        "Explanation of the Columns:\n",
        "\n",
        "1. Year: The Year the data was collected\n",
        "2. Month: The Month in which the data was collected\n",
        "3. DayofMonth: The day of the month\n",
        "4. DayofWeek: The day of Week\n",
        "5. Actual_Shipment_Time: The Actual time when the package was sent for shipment. (ex: 1955 means 19 hours and 55 minutes i.e 7:55 PM)\n",
        "6. Planned_Shipment_Time: The time when the package should have been sent for shipment. (ex: 1955 means 19 hours and 55 minutes i.e 7:55 PM)\n",
        "7. Planned_Delivery_Time: The time when the package should be delivered. (ex: 1955 means 19 hours and 55 minutes i.e 7:55 PM)\n",
        "8. Carrier_Name: The name of the Carrier which carried the package.\n",
        "9. Carrier_Num: The number of the Carrier which carried the package.\n",
        "10. Planned_TimeofTravel: The estimated time to reach from Source to Destination. ( in minutes)\n",
        "11. Shipment_Delay: The time by which the package was shipped late. (in minutes. Negative value indicates that the package was shipped early. Ex: 4 indicates that the package was shipped 4 minutes late, whereas, -4 indicates that the package was shipped 4 minutes early)\n",
        "12. Source: The place from which the package was shipped.\n",
        "13. Destination: The place at which the package was delivered.\n",
        "14. Distance: Distance between Source and Destination in miles.\n",
        "15. Delivery_Status: Whether it got delivered at right time or not. (Dependent Variable)\n",
        "  \n",
        "\n"
      ],
      "metadata": {
        "id": "0B0r4VNMzi_e"
      }
    },
    {
      "cell_type": "markdown",
      "source": [
        "Expectation & Point to Remember:\n",
        "\n",
        "* CRISP-ML(Q) framework has to be implemented and a document has to be created with all sections completely filled. \n",
        "* Apply EDA, Feature Engineering, Data Visualization, Unsupervised Learning and finally Supervised Learning. Also take the categorical variables and perform wordcloud. \n",
        "* Get as innovative as possible because this is the right sized dataset to get complete understanding on end to end pipeline building. \n",
        "* Accuracy of the model should be greater than 90%.If you get 100% accuracy then something is wrong with the way you handled the dataset.\n",
        "* Use Google Colab to avoid running out of memory issues. "
      ],
      "metadata": {
        "id": "Ol88cVOV0HRr"
      }
    }
  ]
}